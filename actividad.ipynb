{
 "cells": [
  {
   "cell_type": "markdown",
   "metadata": {},
   "source": [
    "Juan Arturo Alvarez Valdez - 20 years old\n",
    "\n",
    "Marco Antonio Barreda Escalona - 19 years old\n",
    "\n",
    "Alexandro Ramírez Reyes - 20 years old\n",
    "\n",
    "José María de Albornoz Caratozzolo- 20 years old"
   ]
  },
  {
   "cell_type": "markdown",
   "metadata": {},
   "source": [
    "In a collaboration such as Desi High, it is vital for all the people enrolled on the project to have a safe and welcoming experience, this is only possible with the implementation of certain measures to make sure that the enviroment in which people collaborate is free of prejudices and discrimination such as skin colour, race or any other characteristic that the diverse community of this project can have. These measures should also serve to keep the working environment safe and free of conflict.\n",
    "\n",
    "The best way of accomplishing this is via a code of conduct such as the one that is being used right now for the Desi High project. Making everyone agree with these rules makes the life of all the people involved better and helps to build a friendly, collaborative space that provides a faster progress of the project and avoids any harm that can be made by allowing conducts of hatred."
   ]
  },
  {
   "cell_type": "code",
   "execution_count": null,
   "metadata": {},
   "outputs": [],
   "source": []
  }
 ],
 "metadata": {
  "kernelspec": {
   "display_name": "Python 3",
   "language": "python",
   "name": "python3"
  },
  "language_info": {
   "codemirror_mode": {
    "name": "ipython",
    "version": 3
   },
   "file_extension": ".py",
   "mimetype": "text/x-python",
   "name": "python",
   "nbconvert_exporter": "python",
   "pygments_lexer": "ipython3",
   "version": "3.8.5"
  }
 },
 "nbformat": 4,
 "nbformat_minor": 4
}
